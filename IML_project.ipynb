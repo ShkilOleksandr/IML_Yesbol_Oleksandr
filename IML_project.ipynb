{
 "cells": [
  {
   "cell_type": "code",
   "execution_count": 13,
   "id": "b08f0d2b-632b-48b6-b931-b4987b73da97",
   "metadata": {},
   "outputs": [],
   "source": [
    "import tkinter as tk\n",
    "\n",
    "\n",
    "app = tk.Tk()\n",
    "app.geometry(\"1000x1000\")\n",
    "button_state = 0\n",
    "\n",
    "def recording_proof():\n",
    "    global button_state\n",
    "    if(button_state == 0):\n",
    "        button_state = 1\n",
    "        recording_button.config(\n",
    "        bg = 'red',\n",
    "        text = 'Stop recording')\n",
    "    else:\n",
    "        button_state = 0\n",
    "        recording_button.config(\n",
    "        bg = 'green',\n",
    "        text = 'Start recording voice')\n",
    "   \n",
    "\n",
    "\n",
    "recording_button = tk.Button(app, text =\"Start recording voice\",bg = 'green', command = recording_proof, \n",
    "                            font = tk.font.Font(size = 50))\n",
    "recording_button.place(relx=0.5, rely=0.5, anchor=tk.CENTER)\n",
    "\n",
    "\n",
    "\n",
    "app.mainloop()"
   ]
  },
  {
   "cell_type": "code",
   "execution_count": null,
   "id": "efc70336-f247-4e7c-8243-a5c3372c35b6",
   "metadata": {},
   "outputs": [],
   "source": []
  }
 ],
 "metadata": {
  "kernelspec": {
   "display_name": "Python 3 (ipykernel)",
   "language": "python",
   "name": "python3"
  },
  "language_info": {
   "codemirror_mode": {
    "name": "ipython",
    "version": 3
   },
   "file_extension": ".py",
   "mimetype": "text/x-python",
   "name": "python",
   "nbconvert_exporter": "python",
   "pygments_lexer": "ipython3",
   "version": "3.12.4"
  }
 },
 "nbformat": 4,
 "nbformat_minor": 5
}
