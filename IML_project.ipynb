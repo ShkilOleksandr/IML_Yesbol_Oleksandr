{
 "cells": [
  {
   "cell_type": "code",
   "execution_count": 3,
   "id": "efc70336-f247-4e7c-8243-a5c3372c35b6",
   "metadata": {},
   "outputs": [],
   "source": [
    "import librosa\n",
    "import librosa.display\n",
    "import matplotlib.pyplot as plt\n",
    "import numpy as np"
   ]
  },
  {
   "cell_type": "code",
   "execution_count": null,
   "id": "91fe3221-618a-4f42-ab66-2871bc19c36f",
   "metadata": {},
   "outputs": [],
   "source": [
    "audio_file_path = ''## here you paste your directory for audio files\n",
    "audio,sr = librosa.load(audio_file_path,sr=None)"
   ]
  },
  {
   "cell_type": "code",
   "execution_count": null,
   "id": "49ea8739-892f-427b-a5c1-17fce734b490",
   "metadata": {},
   "outputs": [],
   "source": [
    "#(s stands for spectrogram)\n",
    "s = librosa.feature.melspectrogram(y=audio,sr=sr)\n",
    "S_db = librosa.power_to_db(s, ref=np.max) #stands for database that stores spectrogram"
   ]
  },
  {
   "cell_type": "code",
   "execution_count": null,
   "id": "b08f0d2b-632b-48b6-b931-b4987b73da97",
   "metadata": {},
   "outputs": [
    {
     "name": "stderr",
     "output_type": "stream",
     "text": [
      "ALSA lib pcm.c:2722:(snd_pcm_open_noupdate) Unknown PCM cards.pcm.rear\n",
      "ALSA lib pcm.c:2722:(snd_pcm_open_noupdate) Unknown PCM cards.pcm.center_lfe\n",
      "ALSA lib pcm.c:2722:(snd_pcm_open_noupdate) Unknown PCM cards.pcm.side\n",
      "ALSA lib pcm_route.c:878:(find_matching_chmap) Found no matching channel map\n",
      "ALSA lib pcm_route.c:878:(find_matching_chmap) Found no matching channel map\n",
      "ALSA lib pcm_route.c:878:(find_matching_chmap) Found no matching channel map\n",
      "ALSA lib pcm_route.c:878:(find_matching_chmap) Found no matching channel map\n",
      "ALSA lib dlmisc.c:339:(snd_dlobj_cache_get0) Cannot open shared library libasound_module_pcm_jack.so (/home/oleksandr/anaconda3/envs/summer2024/bin/../lib/libstdc++.so.6: version `GLIBCXX_3.4.32' not found (required by /lib/x86_64-linux-gnu/libjack.so.0))\n",
      "ALSA lib dlmisc.c:339:(snd_dlobj_cache_get0) Cannot open shared library libasound_module_pcm_jack.so (/home/oleksandr/anaconda3/envs/summer2024/bin/../lib/libstdc++.so.6: version `GLIBCXX_3.4.32' not found (required by /lib/x86_64-linux-gnu/libjack.so.0))\n",
      "ALSA lib pcm_oss.c:404:(_snd_pcm_oss_open) Cannot open device /dev/dsp\n",
      "ALSA lib pcm_oss.c:404:(_snd_pcm_oss_open) Cannot open device /dev/dsp\n",
      "ALSA lib dlmisc.c:339:(snd_dlobj_cache_get0) Cannot open shared library libasound_module_pcm_a52.so (/home/oleksandr/anaconda3/envs/summer2024/bin/../lib/libstdc++.so.6: version `GLIBCXX_3.4.30' not found (required by /lib/x86_64-linux-gnu/libjxl_threads.so.0.9))\n",
      "ALSA lib dlmisc.c:339:(snd_dlobj_cache_get0) Cannot open shared library libasound_module_pcm_a52.so (/home/oleksandr/anaconda3/envs/summer2024/bin/../lib/libstdc++.so.6: version `GLIBCXX_3.4.30' not found (required by /lib/x86_64-linux-gnu/libjxl_threads.so.0.9))\n",
      "ALSA lib confmisc.c:160:(snd_config_get_card) Invalid field card\n",
      "ALSA lib pcm_usb_stream.c:481:(_snd_pcm_usb_stream_open) Invalid card 'card'\n",
      "ALSA lib confmisc.c:160:(snd_config_get_card) Invalid field card\n",
      "ALSA lib pcm_usb_stream.c:481:(_snd_pcm_usb_stream_open) Invalid card 'card'\n"
     ]
    },
    {
     "name": "stdout",
     "output_type": "stream",
     "text": [
      "Recording...\n",
      "Recording finished!\n"
     ]
    },
    {
     "name": "stderr",
     "output_type": "stream",
     "text": [
      "Exception in Tkinter callback\n",
      "Traceback (most recent call last):\n",
      "  File \"/home/oleksandr/anaconda3/envs/summer2024/lib/python3.11/tkinter/__init__.py\", line 1967, in __call__\n",
      "    return self.func(*args)\n",
      "           ^^^^^^^^^^^^^^^^\n",
      "  File \"/tmp/ipykernel_42045/1337522509.py\", line 52, in recording_proof\n",
      "    recording_button['state'] = 'enabled'\n",
      "    ~~~~~~~~~~~~~~~~^^^^^^^^^\n",
      "  File \"/home/oleksandr/anaconda3/envs/summer2024/lib/python3.11/tkinter/__init__.py\", line 1732, in __setitem__\n",
      "    self.configure({key: value})\n",
      "  File \"/home/oleksandr/anaconda3/envs/summer2024/lib/python3.11/tkinter/__init__.py\", line 1721, in configure\n",
      "    return self._configure('configure', cnf, kw)\n",
      "           ^^^^^^^^^^^^^^^^^^^^^^^^^^^^^^^^^^^^^\n",
      "  File \"/home/oleksandr/anaconda3/envs/summer2024/lib/python3.11/tkinter/__init__.py\", line 1711, in _configure\n",
      "    self.tk.call(_flatten((self._w, cmd)) + self._options(cnf))\n",
      "_tkinter.TclError: bad state \"enabled\": must be active, disabled, or normal\n"
     ]
    }
   ],
   "source": [
    "import threading\n",
    "import tkinter as tk\n",
    "import tkinter.font as tkFont\n",
    "import pyaudio\n",
    "import wave\n",
    "import time\n",
    "\n",
    "app = tk.Tk()\n",
    "app.geometry(\"1000x1000\")\n",
    "button_state = 0\n",
    "\n",
    "def record_audio(filename=\"output.wav\", duration=5, sample_rate=44100, chunk=1024, channels=1):\n",
    "    audio = pyaudio.PyAudio()\n",
    "\n",
    "    # Open stream\n",
    "    stream = audio.open(format=pyaudio.paInt16, channels=channels,\n",
    "                        rate=sample_rate, input=True, frames_per_buffer=chunk)\n",
    "\n",
    "    print(\"Recording...\")\n",
    "    frames = []\n",
    "\n",
    "    for i in range(0, int(sample_rate / chunk * duration)):\n",
    "        data = stream.read(chunk)\n",
    "        frames.append(data)\n",
    "\n",
    "    print(\"Recording finished!\")\n",
    "\n",
    "    # Stop and close the stream\n",
    "    stream.stop_stream()\n",
    "    stream.close()\n",
    "    audio.terminate()\n",
    "\n",
    "    # Save the recorded audio\n",
    "    wf = wave.open(filename, 'wb')\n",
    "    wf.setnchannels(channels)\n",
    "    wf.setsampwidth(audio.get_sample_size(pyaudio.paInt16))\n",
    "    wf.setframerate(sample_rate)\n",
    "    wf.writeframes(b''.join(frames))\n",
    "    wf.close()\n",
    "\n",
    "def recording_proof():\n",
    "    global button_state\n",
    "    if(button_state == 0):\n",
    "        button_state = 2\n",
    "        recording_button['state'] = 'disabled'\n",
    "        recording_button.config(\n",
    "        bg = 'red',\n",
    "        text = 'Recording...')\n",
    "        \n",
    "        recording_button.update_idletasks()\n",
    "        record_audio()\n",
    "        recording_button['state'] = 'enabled'\n",
    "        recording_button.config(\n",
    "        bg = 'green',\n",
    "        text = 'Start recording voice')\n",
    "   \n",
    "        button_state = 0\n",
    "        \n",
    "\n",
    "\n",
    "recording_button = tk.Button(app, text =\"Start recording voice\",bg = 'green', command = recording_proof, \n",
    "                            font = tkFont.Font(size = 50))\n",
    "recording_button.place(relx=0.5, rely=0.5, anchor=tk.CENTER)\n",
    "\n",
    "\n",
    "\n",
    "\n",
    "\n",
    "app.mainloop()"
   ]
  },
  {
   "cell_type": "code",
   "execution_count": null,
   "id": "3e85a7b7-c650-4699-9237-9c672b8e4268",
   "metadata": {},
   "outputs": [],
   "source": []
  }
 ],
 "metadata": {
  "kernelspec": {
   "display_name": "Python 3 (ipykernel)",
   "language": "python",
   "name": "python3"
  },
  "language_info": {
   "codemirror_mode": {
    "name": "ipython",
    "version": 3
   },
   "file_extension": ".py",
   "mimetype": "text/x-python",
   "name": "python",
   "nbconvert_exporter": "python",
   "pygments_lexer": "ipython3",
   "version": "3.11.9"
  }
 },
 "nbformat": 4,
 "nbformat_minor": 5
}
